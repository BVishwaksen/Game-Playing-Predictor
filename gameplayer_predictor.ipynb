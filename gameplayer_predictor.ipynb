{
 "cells": [
  {
   "cell_type": "code",
   "execution_count": 1,
   "metadata": {},
   "outputs": [],
   "source": [
    "#importing the modules\n",
    "import pickle\n",
    "from sklearn.preprocessing import LabelEncoder"
   ]
  },
  {
   "cell_type": "code",
   "execution_count": 2,
   "metadata": {},
   "outputs": [],
   "source": [
    "#Label Encoding dictionary\n",
    "weather_dictionary = {'Overcast':0,'Rainy':1,'Sunny':2}\n",
    "temp_dictionary = {'Cool':0,'Hot':1,'Mild':2}"
   ]
  },
  {
   "cell_type": "code",
   "execution_count": 3,
   "metadata": {},
   "outputs": [],
   "source": [
    "#Weather Properties\n",
    "weather = 'Overcast'\n",
    "temp = 'Mild'"
   ]
  },
  {
   "cell_type": "code",
   "execution_count": 4,
   "metadata": {},
   "outputs": [
    {
     "data": {
      "text/plain": [
       "[[0, 2]]"
      ]
     },
     "execution_count": 4,
     "metadata": {},
     "output_type": "execute_result"
    }
   ],
   "source": [
    "#preparing the input vector\n",
    "weather_input = [[weather_dictionary[weather],temp_dictionary[temp]]]\n",
    "weather_input"
   ]
  },
  {
   "cell_type": "code",
   "execution_count": 5,
   "metadata": {},
   "outputs": [],
   "source": [
    "#predicting the output\n",
    "filename = 'gameplay_model.sav'\n",
    "game_model = pickle.load(open(filename,'rb'))\n",
    "game_result = game_model.predict(weather_input)"
   ]
  },
  {
   "cell_type": "code",
   "execution_count": 6,
   "metadata": {},
   "outputs": [
    {
     "name": "stdout",
     "output_type": "stream",
     "text": [
      "You can play outside\n"
     ]
    }
   ],
   "source": [
    "#printint the output\n",
    "if game_result[0]==1:\n",
    "    print(\"You can play outside\")\n",
    "else:\n",
    "    print(\"It is better not to play outside\")"
   ]
  }
 ],
 "metadata": {
  "kernelspec": {
   "display_name": "Python 3",
   "language": "python",
   "name": "python3"
  },
  "language_info": {
   "codemirror_mode": {
    "name": "ipython",
    "version": 3
   },
   "file_extension": ".py",
   "mimetype": "text/x-python",
   "name": "python",
   "nbconvert_exporter": "python",
   "pygments_lexer": "ipython3",
   "version": "3.5.0"
  }
 },
 "nbformat": 4,
 "nbformat_minor": 2
}
